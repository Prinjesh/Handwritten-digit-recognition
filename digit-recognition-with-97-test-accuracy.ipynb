{
 "cells": [
  {
   "cell_type": "markdown",
   "metadata": {
    "papermill": {
     "duration": 0.017866,
     "end_time": "2020-12-05T09:56:31.093665",
     "exception": false,
     "start_time": "2020-12-05T09:56:31.075799",
     "status": "completed"
    },
    "tags": []
   },
   "source": [
    "Let's first import some requisites."
   ]
  },
  {
   "cell_type": "code",
   "execution_count": 1,
   "metadata": {
    "_cell_guid": "b1076dfc-b9ad-4769-8c92-a6c4dae69d19",
    "_uuid": "8f2839f25d086af736a60e9eeb907d3b93b6e0e5",
    "execution": {
     "iopub.execute_input": "2020-12-05T09:56:31.146666Z",
     "iopub.status.busy": "2020-12-05T09:56:31.145503Z",
     "iopub.status.idle": "2020-12-05T09:56:39.111858Z",
     "shell.execute_reply": "2020-12-05T09:56:39.110990Z"
    },
    "papermill": {
     "duration": 7.994517,
     "end_time": "2020-12-05T09:56:39.111996",
     "exception": false,
     "start_time": "2020-12-05T09:56:31.117479",
     "status": "completed"
    },
    "tags": []
   },
   "outputs": [],
   "source": [
    "import numpy as np\n",
    "import pandas as pd\n",
    "from sklearn import preprocessing\n",
    "from sklearn.model_selection import train_test_split\n",
    "from keras.utils import to_categorical\n",
    "from keras.models import Sequential\n",
    "from keras.layers import Dense"
   ]
  },
  {
   "cell_type": "markdown",
   "metadata": {
    "papermill": {
     "duration": 0.016771,
     "end_time": "2020-12-05T09:56:39.145844",
     "exception": false,
     "start_time": "2020-12-05T09:56:39.129073",
     "status": "completed"
    },
    "tags": []
   },
   "source": [
    "Importing the data with spitting labels away from it. After that, there is some preprocessing involved."
   ]
  },
  {
   "cell_type": "code",
   "execution_count": 2,
   "metadata": {
    "_cell_guid": "79c7e3d0-c299-4dcb-8224-4455121ee9b0",
    "_uuid": "d629ff2d2480ee46fbb7e2d37f6b5fab8052498a",
    "execution": {
     "iopub.execute_input": "2020-12-05T09:56:39.189453Z",
     "iopub.status.busy": "2020-12-05T09:56:39.188613Z",
     "iopub.status.idle": "2020-12-05T09:56:43.928713Z",
     "shell.execute_reply": "2020-12-05T09:56:43.927987Z"
    },
    "papermill": {
     "duration": 4.766074,
     "end_time": "2020-12-05T09:56:43.928860",
     "exception": false,
     "start_time": "2020-12-05T09:56:39.162786",
     "status": "completed"
    },
    "tags": []
   },
   "outputs": [],
   "source": [
    "primary_data = pd.read_csv('../input/digit-recognizer/train.csv',delimiter=',')"
   ]
  },
  {
   "cell_type": "code",
   "execution_count": 3,
   "metadata": {
    "execution": {
     "iopub.execute_input": "2020-12-05T09:56:43.971246Z",
     "iopub.status.busy": "2020-12-05T09:56:43.970453Z",
     "iopub.status.idle": "2020-12-05T09:56:44.144634Z",
     "shell.execute_reply": "2020-12-05T09:56:44.143752Z"
    },
    "papermill": {
     "duration": 0.198704,
     "end_time": "2020-12-05T09:56:44.144806",
     "exception": false,
     "start_time": "2020-12-05T09:56:43.946102",
     "status": "completed"
    },
    "tags": []
   },
   "outputs": [],
   "source": [
    "y_train = primary_data['label']\n",
    "X_train = primary_data.drop(labels='label',axis=1)"
   ]
  },
  {
   "cell_type": "code",
   "execution_count": 4,
   "metadata": {
    "execution": {
     "iopub.execute_input": "2020-12-05T09:56:44.189006Z",
     "iopub.status.busy": "2020-12-05T09:56:44.187963Z",
     "iopub.status.idle": "2020-12-05T09:56:44.191766Z",
     "shell.execute_reply": "2020-12-05T09:56:44.190988Z"
    },
    "papermill": {
     "duration": 0.029007,
     "end_time": "2020-12-05T09:56:44.191955",
     "exception": false,
     "start_time": "2020-12-05T09:56:44.162948",
     "status": "completed"
    },
    "tags": []
   },
   "outputs": [],
   "source": [
    "X_data = X_train.values\n",
    "y_data = y_train.values\n",
    "y_data = np.reshape(y_data,(np.shape(y_data)[0],1))"
   ]
  },
  {
   "cell_type": "code",
   "execution_count": 5,
   "metadata": {
    "execution": {
     "iopub.execute_input": "2020-12-05T09:56:44.243573Z",
     "iopub.status.busy": "2020-12-05T09:56:44.242714Z",
     "iopub.status.idle": "2020-12-05T09:56:44.722765Z",
     "shell.execute_reply": "2020-12-05T09:56:44.721785Z"
    },
    "papermill": {
     "duration": 0.506938,
     "end_time": "2020-12-05T09:56:44.722921",
     "exception": false,
     "start_time": "2020-12-05T09:56:44.215983",
     "status": "completed"
    },
    "tags": []
   },
   "outputs": [],
   "source": [
    "min_max_scaler = preprocessing.MinMaxScaler()\n",
    "X_scaled = min_max_scaler.fit_transform(X_data)"
   ]
  },
  {
   "cell_type": "markdown",
   "metadata": {
    "papermill": {
     "duration": 0.01897,
     "end_time": "2020-12-05T09:56:44.760480",
     "exception": false,
     "start_time": "2020-12-05T09:56:44.741510",
     "status": "completed"
    },
    "tags": []
   },
   "source": [
    "Splitting the data in train and test set. I have considered test set size about 25% as it is of about 10500 in size and this number of test data is enough."
   ]
  },
  {
   "cell_type": "code",
   "execution_count": 6,
   "metadata": {
    "execution": {
     "iopub.execute_input": "2020-12-05T09:56:44.803810Z",
     "iopub.status.busy": "2020-12-05T09:56:44.802924Z",
     "iopub.status.idle": "2020-12-05T09:56:45.334872Z",
     "shell.execute_reply": "2020-12-05T09:56:45.334148Z"
    },
    "papermill": {
     "duration": 0.556697,
     "end_time": "2020-12-05T09:56:45.335007",
     "exception": false,
     "start_time": "2020-12-05T09:56:44.778310",
     "status": "completed"
    },
    "tags": []
   },
   "outputs": [],
   "source": [
    "X_train, X_test, y_train, y_test = train_test_split(X_scaled, y_data, test_size = 0.25, random_state = 42)"
   ]
  },
  {
   "cell_type": "markdown",
   "metadata": {
    "papermill": {
     "duration": 0.016974,
     "end_time": "2020-12-05T09:56:45.370071",
     "exception": false,
     "start_time": "2020-12-05T09:56:45.353097",
     "status": "completed"
    },
    "tags": []
   },
   "source": [
    "Converting the labels in vector mode as this is a multiclass classification. "
   ]
  },
  {
   "cell_type": "code",
   "execution_count": 7,
   "metadata": {
    "execution": {
     "iopub.execute_input": "2020-12-05T09:56:45.412091Z",
     "iopub.status.busy": "2020-12-05T09:56:45.411198Z",
     "iopub.status.idle": "2020-12-05T09:56:45.416511Z",
     "shell.execute_reply": "2020-12-05T09:56:45.415599Z"
    },
    "papermill": {
     "duration": 0.028795,
     "end_time": "2020-12-05T09:56:45.416656",
     "exception": false,
     "start_time": "2020-12-05T09:56:45.387861",
     "status": "completed"
    },
    "tags": []
   },
   "outputs": [],
   "source": [
    "y_train_cat = to_categorical(y_train, num_classes=10)\n",
    "y_test_cat = to_categorical(y_test, num_classes=10)"
   ]
  },
  {
   "cell_type": "markdown",
   "metadata": {
    "papermill": {
     "duration": 0.017153,
     "end_time": "2020-12-05T09:56:45.451724",
     "exception": false,
     "start_time": "2020-12-05T09:56:45.434571",
     "status": "completed"
    },
    "tags": []
   },
   "source": [
    "# ****Building the model****"
   ]
  },
  {
   "cell_type": "code",
   "execution_count": 8,
   "metadata": {
    "execution": {
     "iopub.execute_input": "2020-12-05T09:56:45.495270Z",
     "iopub.status.busy": "2020-12-05T09:56:45.494428Z",
     "iopub.status.idle": "2020-12-05T09:56:45.653526Z",
     "shell.execute_reply": "2020-12-05T09:56:45.652752Z"
    },
    "papermill": {
     "duration": 0.184363,
     "end_time": "2020-12-05T09:56:45.653660",
     "exception": false,
     "start_time": "2020-12-05T09:56:45.469297",
     "status": "completed"
    },
    "tags": []
   },
   "outputs": [],
   "source": [
    "model = Sequential()\n",
    "model.add(Dense(392, input_dim=784, activation='relu'))\n",
    "model.add(Dense(196,activation='relu'))\n",
    "model.add(Dense(98,activation='relu'))\n",
    "model.add(Dense(10,activation='relu'))\n",
    "model.add(Dense(10,activation='softmax'))"
   ]
  },
  {
   "cell_type": "code",
   "execution_count": 9,
   "metadata": {
    "execution": {
     "iopub.execute_input": "2020-12-05T09:56:45.696144Z",
     "iopub.status.busy": "2020-12-05T09:56:45.695228Z",
     "iopub.status.idle": "2020-12-05T09:56:45.700546Z",
     "shell.execute_reply": "2020-12-05T09:56:45.699414Z"
    },
    "papermill": {
     "duration": 0.02963,
     "end_time": "2020-12-05T09:56:45.700737",
     "exception": false,
     "start_time": "2020-12-05T09:56:45.671107",
     "status": "completed"
    },
    "tags": []
   },
   "outputs": [
    {
     "name": "stdout",
     "output_type": "stream",
     "text": [
      "Model: \"sequential\"\n",
      "_________________________________________________________________\n",
      "Layer (type)                 Output Shape              Param #   \n",
      "=================================================================\n",
      "dense (Dense)                (None, 392)               307720    \n",
      "_________________________________________________________________\n",
      "dense_1 (Dense)              (None, 196)               77028     \n",
      "_________________________________________________________________\n",
      "dense_2 (Dense)              (None, 98)                19306     \n",
      "_________________________________________________________________\n",
      "dense_3 (Dense)              (None, 10)                990       \n",
      "_________________________________________________________________\n",
      "dense_4 (Dense)              (None, 10)                110       \n",
      "=================================================================\n",
      "Total params: 405,154\n",
      "Trainable params: 405,154\n",
      "Non-trainable params: 0\n",
      "_________________________________________________________________\n"
     ]
    }
   ],
   "source": [
    "model.summary()"
   ]
  },
  {
   "cell_type": "markdown",
   "metadata": {
    "papermill": {
     "duration": 0.017882,
     "end_time": "2020-12-05T09:56:45.737697",
     "exception": false,
     "start_time": "2020-12-05T09:56:45.719815",
     "status": "completed"
    },
    "tags": []
   },
   "source": [
    "# Training the model****"
   ]
  },
  {
   "cell_type": "code",
   "execution_count": 10,
   "metadata": {
    "execution": {
     "iopub.execute_input": "2020-12-05T09:56:45.790659Z",
     "iopub.status.busy": "2020-12-05T09:56:45.789513Z",
     "iopub.status.idle": "2020-12-05T09:57:52.705039Z",
     "shell.execute_reply": "2020-12-05T09:57:52.705674Z"
    },
    "papermill": {
     "duration": 66.948844,
     "end_time": "2020-12-05T09:57:52.705858",
     "exception": false,
     "start_time": "2020-12-05T09:56:45.757014",
     "status": "completed"
    },
    "tags": []
   },
   "outputs": [
    {
     "name": "stdout",
     "output_type": "stream",
     "text": [
      "Epoch 1/20\n",
      "985/985 - 3s - loss: 0.4248 - accuracy: 0.8631\n",
      "Epoch 2/20\n",
      "985/985 - 3s - loss: 0.1272 - accuracy: 0.9626\n",
      "Epoch 3/20\n",
      "985/985 - 3s - loss: 0.0869 - accuracy: 0.9750\n",
      "Epoch 4/20\n",
      "985/985 - 3s - loss: 0.0654 - accuracy: 0.9804\n",
      "Epoch 5/20\n",
      "985/985 - 3s - loss: 0.0491 - accuracy: 0.9848\n",
      "Epoch 6/20\n",
      "985/985 - 3s - loss: 0.0426 - accuracy: 0.9870\n",
      "Epoch 7/20\n",
      "985/985 - 3s - loss: 0.0398 - accuracy: 0.9875\n",
      "Epoch 8/20\n",
      "985/985 - 4s - loss: 0.0303 - accuracy: 0.9915\n",
      "Epoch 9/20\n",
      "985/985 - 4s - loss: 0.0279 - accuracy: 0.9918\n",
      "Epoch 10/20\n",
      "985/985 - 3s - loss: 0.0249 - accuracy: 0.9934\n",
      "Epoch 11/20\n",
      "985/985 - 3s - loss: 0.0211 - accuracy: 0.9936\n",
      "Epoch 12/20\n",
      "985/985 - 3s - loss: 0.0234 - accuracy: 0.9931\n",
      "Epoch 13/20\n",
      "985/985 - 4s - loss: 0.0243 - accuracy: 0.9927\n",
      "Epoch 14/20\n",
      "985/985 - 3s - loss: 0.0152 - accuracy: 0.9954\n",
      "Epoch 15/20\n",
      "985/985 - 3s - loss: 0.0155 - accuracy: 0.9960\n",
      "Epoch 16/20\n",
      "985/985 - 3s - loss: 0.0178 - accuracy: 0.9952\n",
      "Epoch 17/20\n",
      "985/985 - 3s - loss: 0.0191 - accuracy: 0.9948\n",
      "Epoch 18/20\n",
      "985/985 - 3s - loss: 0.0104 - accuracy: 0.9975\n",
      "Epoch 19/20\n",
      "985/985 - 3s - loss: 0.0144 - accuracy: 0.9957\n",
      "Epoch 20/20\n",
      "985/985 - 3s - loss: 0.0124 - accuracy: 0.9969\n"
     ]
    },
    {
     "data": {
      "text/plain": [
       "<tensorflow.python.keras.callbacks.History at 0x7fb5160c3e50>"
      ]
     },
     "execution_count": 10,
     "metadata": {},
     "output_type": "execute_result"
    }
   ],
   "source": [
    "model.compile(optimizer='adam',loss='CategoricalCrossentropy', metrics=['accuracy'])\n",
    "model.fit(x=X_train,y=y_train_cat,verbose=2,epochs=20)"
   ]
  },
  {
   "cell_type": "markdown",
   "metadata": {
    "papermill": {
     "duration": 0.034728,
     "end_time": "2020-12-05T09:57:52.775737",
     "exception": false,
     "start_time": "2020-12-05T09:57:52.741009",
     "status": "completed"
    },
    "tags": []
   },
   "source": [
    "# Testing the accuracy of the model with test set****"
   ]
  },
  {
   "cell_type": "code",
   "execution_count": 11,
   "metadata": {
    "execution": {
     "iopub.execute_input": "2020-12-05T09:57:52.854026Z",
     "iopub.status.busy": "2020-12-05T09:57:52.852615Z",
     "iopub.status.idle": "2020-12-05T09:57:53.646592Z",
     "shell.execute_reply": "2020-12-05T09:57:53.647165Z"
    },
    "papermill": {
     "duration": 0.836354,
     "end_time": "2020-12-05T09:57:53.647363",
     "exception": false,
     "start_time": "2020-12-05T09:57:52.811009",
     "status": "completed"
    },
    "tags": []
   },
   "outputs": [
    {
     "name": "stdout",
     "output_type": "stream",
     "text": [
      "329/329 [==============================] - 1s 2ms/step - loss: 0.1168 - accuracy: 0.9788\n",
      "Test score: 0.11677361279726028\n",
      "Test accuracy: 0.9787619113922119\n"
     ]
    }
   ],
   "source": [
    "score, acc = model.evaluate(X_test, y_test_cat)\n",
    "print('Test score:', score)\n",
    "print('Test accuracy:', acc)"
   ]
  },
  {
   "cell_type": "code",
   "execution_count": 12,
   "metadata": {
    "execution": {
     "iopub.execute_input": "2020-12-05T09:57:53.739982Z",
     "iopub.status.busy": "2020-12-05T09:57:53.739205Z",
     "iopub.status.idle": "2020-12-05T09:57:56.361149Z",
     "shell.execute_reply": "2020-12-05T09:57:56.360261Z"
    },
    "papermill": {
     "duration": 2.672902,
     "end_time": "2020-12-05T09:57:56.361293",
     "exception": false,
     "start_time": "2020-12-05T09:57:53.688391",
     "status": "completed"
    },
    "tags": []
   },
   "outputs": [
    {
     "data": {
      "text/plain": [
       "(28000, 784)"
      ]
     },
     "execution_count": 12,
     "metadata": {},
     "output_type": "execute_result"
    }
   ],
   "source": [
    "test_set = pd.read_csv('../input/digit-recognizer/test.csv',delimiter=',')\n",
    "np.shape(test_set)"
   ]
  },
  {
   "cell_type": "code",
   "execution_count": 13,
   "metadata": {
    "execution": {
     "iopub.execute_input": "2020-12-05T09:57:56.460709Z",
     "iopub.status.busy": "2020-12-05T09:57:56.459877Z",
     "iopub.status.idle": "2020-12-05T09:57:56.751848Z",
     "shell.execute_reply": "2020-12-05T09:57:56.750932Z"
    },
    "papermill": {
     "duration": 0.349197,
     "end_time": "2020-12-05T09:57:56.751986",
     "exception": false,
     "start_time": "2020-12-05T09:57:56.402789",
     "status": "completed"
    },
    "tags": []
   },
   "outputs": [],
   "source": [
    "#test_set_scaled\n",
    "min_max_scaler_1 = preprocessing.MinMaxScaler()\n",
    "test_set_scaled = min_max_scaler.fit_transform(test_set)"
   ]
  },
  {
   "cell_type": "code",
   "execution_count": 14,
   "metadata": {
    "execution": {
     "iopub.execute_input": "2020-12-05T09:57:56.843639Z",
     "iopub.status.busy": "2020-12-05T09:57:56.842786Z",
     "iopub.status.idle": "2020-12-05T09:57:58.278315Z",
     "shell.execute_reply": "2020-12-05T09:57:58.277597Z"
    },
    "papermill": {
     "duration": 1.483222,
     "end_time": "2020-12-05T09:57:58.278500",
     "exception": false,
     "start_time": "2020-12-05T09:57:56.795278",
     "status": "completed"
    },
    "tags": []
   },
   "outputs": [],
   "source": [
    "predictions = model.predict_classes(test_set_scaled)"
   ]
  },
  {
   "cell_type": "code",
   "execution_count": 15,
   "metadata": {
    "execution": {
     "iopub.execute_input": "2020-12-05T09:57:58.439435Z",
     "iopub.status.busy": "2020-12-05T09:57:58.374535Z",
     "iopub.status.idle": "2020-12-05T09:57:58.442870Z",
     "shell.execute_reply": "2020-12-05T09:57:58.442144Z"
    },
    "papermill": {
     "duration": 0.121205,
     "end_time": "2020-12-05T09:57:58.443003",
     "exception": false,
     "start_time": "2020-12-05T09:57:58.321798",
     "status": "completed"
    },
    "tags": []
   },
   "outputs": [],
   "source": [
    "import csv\n",
    "with open('Test_result_submission_v1.csv', 'w', newline='') as file:\n",
    "    writer = csv.writer(file)\n",
    "    writer.writerow(['ImageId','Label'])\n",
    "    for i in range(0,np.shape(test_set)[0]):\n",
    "        writer.writerow([i+1,predictions[i]])"
   ]
  }
 ],
 "metadata": {
  "kernelspec": {
   "display_name": "Python 3",
   "language": "python",
   "name": "python3"
  },
  "language_info": {
   "codemirror_mode": {
    "name": "ipython",
    "version": 3
   },
   "file_extension": ".py",
   "mimetype": "text/x-python",
   "name": "python",
   "nbconvert_exporter": "python",
   "pygments_lexer": "ipython3",
   "version": "3.7.6"
  },
  "papermill": {
   "duration": 92.946417,
   "end_time": "2020-12-05T09:57:58.592793",
   "environment_variables": {},
   "exception": null,
   "input_path": "__notebook__.ipynb",
   "output_path": "__notebook__.ipynb",
   "parameters": {},
   "start_time": "2020-12-05T09:56:25.646376",
   "version": "2.1.0"
  }
 },
 "nbformat": 4,
 "nbformat_minor": 4
}
